{
  "nbformat": 4,
  "nbformat_minor": 0,
  "metadata": {
    "colab": {
      "provenance": [],
      "authorship_tag": "ABX9TyMVOVxfGb6lQ1OQ7V0RNbX4",
      "include_colab_link": true
    },
    "kernelspec": {
      "name": "python3",
      "display_name": "Python 3"
    },
    "language_info": {
      "name": "python"
    }
  },
  "cells": [
    {
      "cell_type": "markdown",
      "metadata": {
        "id": "view-in-github",
        "colab_type": "text"
      },
      "source": [
        "<a href=\"https://colab.research.google.com/github/ssunart/ML-DL-study/blob/main/Ch5_%EC%B0%A8%EC%9B%90_%EC%B6%95%EC%86%8C%EB%A5%BC_%ED%86%B5%ED%95%9C_%EB%8D%B0%EC%9D%B4%ED%84%B0_%EC%95%95%EC%B6%95.ipynb\" target=\"_parent\"><img src=\"https://colab.research.google.com/assets/colab-badge.svg\" alt=\"Open In Colab\"/></a>"
      ]
    },
    {
      "cell_type": "code",
      "execution_count": 1,
      "metadata": {
        "id": "KeYEuZfw_nNz"
      },
      "outputs": [],
      "source": [
        "import pandas as pd\n",
        "df_wine = pd.read_csv('https://archive.ics.uci.edu/ml/'\n",
        "'machine-learning-databases/wine/wine.data',header=None)"
      ]
    },
    {
      "cell_type": "code",
      "source": [
        "df_wine"
      ],
      "metadata": {
        "colab": {
          "base_uri": "https://localhost:8080/",
          "height": 424
        },
        "id": "rLckeetk_uM1",
        "outputId": "d0564ee6-dda5-4651-ab7f-c58e76dd7056"
      },
      "execution_count": 2,
      "outputs": [
        {
          "output_type": "execute_result",
          "data": {
            "text/plain": [
              "     0      1     2     3     4    5     6     7     8     9      10    11  \\\n",
              "0     1  14.23  1.71  2.43  15.6  127  2.80  3.06  0.28  2.29   5.64  1.04   \n",
              "1     1  13.20  1.78  2.14  11.2  100  2.65  2.76  0.26  1.28   4.38  1.05   \n",
              "2     1  13.16  2.36  2.67  18.6  101  2.80  3.24  0.30  2.81   5.68  1.03   \n",
              "3     1  14.37  1.95  2.50  16.8  113  3.85  3.49  0.24  2.18   7.80  0.86   \n",
              "4     1  13.24  2.59  2.87  21.0  118  2.80  2.69  0.39  1.82   4.32  1.04   \n",
              "..   ..    ...   ...   ...   ...  ...   ...   ...   ...   ...    ...   ...   \n",
              "173   3  13.71  5.65  2.45  20.5   95  1.68  0.61  0.52  1.06   7.70  0.64   \n",
              "174   3  13.40  3.91  2.48  23.0  102  1.80  0.75  0.43  1.41   7.30  0.70   \n",
              "175   3  13.27  4.28  2.26  20.0  120  1.59  0.69  0.43  1.35  10.20  0.59   \n",
              "176   3  13.17  2.59  2.37  20.0  120  1.65  0.68  0.53  1.46   9.30  0.60   \n",
              "177   3  14.13  4.10  2.74  24.5   96  2.05  0.76  0.56  1.35   9.20  0.61   \n",
              "\n",
              "       12    13  \n",
              "0    3.92  1065  \n",
              "1    3.40  1050  \n",
              "2    3.17  1185  \n",
              "3    3.45  1480  \n",
              "4    2.93   735  \n",
              "..    ...   ...  \n",
              "173  1.74   740  \n",
              "174  1.56   750  \n",
              "175  1.56   835  \n",
              "176  1.62   840  \n",
              "177  1.60   560  \n",
              "\n",
              "[178 rows x 14 columns]"
            ],
            "text/html": [
              "\n",
              "  <div id=\"df-6dbf8734-69ca-4024-89f4-f10733829f3f\" class=\"colab-df-container\">\n",
              "    <div>\n",
              "<style scoped>\n",
              "    .dataframe tbody tr th:only-of-type {\n",
              "        vertical-align: middle;\n",
              "    }\n",
              "\n",
              "    .dataframe tbody tr th {\n",
              "        vertical-align: top;\n",
              "    }\n",
              "\n",
              "    .dataframe thead th {\n",
              "        text-align: right;\n",
              "    }\n",
              "</style>\n",
              "<table border=\"1\" class=\"dataframe\">\n",
              "  <thead>\n",
              "    <tr style=\"text-align: right;\">\n",
              "      <th></th>\n",
              "      <th>0</th>\n",
              "      <th>1</th>\n",
              "      <th>2</th>\n",
              "      <th>3</th>\n",
              "      <th>4</th>\n",
              "      <th>5</th>\n",
              "      <th>6</th>\n",
              "      <th>7</th>\n",
              "      <th>8</th>\n",
              "      <th>9</th>\n",
              "      <th>10</th>\n",
              "      <th>11</th>\n",
              "      <th>12</th>\n",
              "      <th>13</th>\n",
              "    </tr>\n",
              "  </thead>\n",
              "  <tbody>\n",
              "    <tr>\n",
              "      <th>0</th>\n",
              "      <td>1</td>\n",
              "      <td>14.23</td>\n",
              "      <td>1.71</td>\n",
              "      <td>2.43</td>\n",
              "      <td>15.6</td>\n",
              "      <td>127</td>\n",
              "      <td>2.80</td>\n",
              "      <td>3.06</td>\n",
              "      <td>0.28</td>\n",
              "      <td>2.29</td>\n",
              "      <td>5.64</td>\n",
              "      <td>1.04</td>\n",
              "      <td>3.92</td>\n",
              "      <td>1065</td>\n",
              "    </tr>\n",
              "    <tr>\n",
              "      <th>1</th>\n",
              "      <td>1</td>\n",
              "      <td>13.20</td>\n",
              "      <td>1.78</td>\n",
              "      <td>2.14</td>\n",
              "      <td>11.2</td>\n",
              "      <td>100</td>\n",
              "      <td>2.65</td>\n",
              "      <td>2.76</td>\n",
              "      <td>0.26</td>\n",
              "      <td>1.28</td>\n",
              "      <td>4.38</td>\n",
              "      <td>1.05</td>\n",
              "      <td>3.40</td>\n",
              "      <td>1050</td>\n",
              "    </tr>\n",
              "    <tr>\n",
              "      <th>2</th>\n",
              "      <td>1</td>\n",
              "      <td>13.16</td>\n",
              "      <td>2.36</td>\n",
              "      <td>2.67</td>\n",
              "      <td>18.6</td>\n",
              "      <td>101</td>\n",
              "      <td>2.80</td>\n",
              "      <td>3.24</td>\n",
              "      <td>0.30</td>\n",
              "      <td>2.81</td>\n",
              "      <td>5.68</td>\n",
              "      <td>1.03</td>\n",
              "      <td>3.17</td>\n",
              "      <td>1185</td>\n",
              "    </tr>\n",
              "    <tr>\n",
              "      <th>3</th>\n",
              "      <td>1</td>\n",
              "      <td>14.37</td>\n",
              "      <td>1.95</td>\n",
              "      <td>2.50</td>\n",
              "      <td>16.8</td>\n",
              "      <td>113</td>\n",
              "      <td>3.85</td>\n",
              "      <td>3.49</td>\n",
              "      <td>0.24</td>\n",
              "      <td>2.18</td>\n",
              "      <td>7.80</td>\n",
              "      <td>0.86</td>\n",
              "      <td>3.45</td>\n",
              "      <td>1480</td>\n",
              "    </tr>\n",
              "    <tr>\n",
              "      <th>4</th>\n",
              "      <td>1</td>\n",
              "      <td>13.24</td>\n",
              "      <td>2.59</td>\n",
              "      <td>2.87</td>\n",
              "      <td>21.0</td>\n",
              "      <td>118</td>\n",
              "      <td>2.80</td>\n",
              "      <td>2.69</td>\n",
              "      <td>0.39</td>\n",
              "      <td>1.82</td>\n",
              "      <td>4.32</td>\n",
              "      <td>1.04</td>\n",
              "      <td>2.93</td>\n",
              "      <td>735</td>\n",
              "    </tr>\n",
              "    <tr>\n",
              "      <th>...</th>\n",
              "      <td>...</td>\n",
              "      <td>...</td>\n",
              "      <td>...</td>\n",
              "      <td>...</td>\n",
              "      <td>...</td>\n",
              "      <td>...</td>\n",
              "      <td>...</td>\n",
              "      <td>...</td>\n",
              "      <td>...</td>\n",
              "      <td>...</td>\n",
              "      <td>...</td>\n",
              "      <td>...</td>\n",
              "      <td>...</td>\n",
              "      <td>...</td>\n",
              "    </tr>\n",
              "    <tr>\n",
              "      <th>173</th>\n",
              "      <td>3</td>\n",
              "      <td>13.71</td>\n",
              "      <td>5.65</td>\n",
              "      <td>2.45</td>\n",
              "      <td>20.5</td>\n",
              "      <td>95</td>\n",
              "      <td>1.68</td>\n",
              "      <td>0.61</td>\n",
              "      <td>0.52</td>\n",
              "      <td>1.06</td>\n",
              "      <td>7.70</td>\n",
              "      <td>0.64</td>\n",
              "      <td>1.74</td>\n",
              "      <td>740</td>\n",
              "    </tr>\n",
              "    <tr>\n",
              "      <th>174</th>\n",
              "      <td>3</td>\n",
              "      <td>13.40</td>\n",
              "      <td>3.91</td>\n",
              "      <td>2.48</td>\n",
              "      <td>23.0</td>\n",
              "      <td>102</td>\n",
              "      <td>1.80</td>\n",
              "      <td>0.75</td>\n",
              "      <td>0.43</td>\n",
              "      <td>1.41</td>\n",
              "      <td>7.30</td>\n",
              "      <td>0.70</td>\n",
              "      <td>1.56</td>\n",
              "      <td>750</td>\n",
              "    </tr>\n",
              "    <tr>\n",
              "      <th>175</th>\n",
              "      <td>3</td>\n",
              "      <td>13.27</td>\n",
              "      <td>4.28</td>\n",
              "      <td>2.26</td>\n",
              "      <td>20.0</td>\n",
              "      <td>120</td>\n",
              "      <td>1.59</td>\n",
              "      <td>0.69</td>\n",
              "      <td>0.43</td>\n",
              "      <td>1.35</td>\n",
              "      <td>10.20</td>\n",
              "      <td>0.59</td>\n",
              "      <td>1.56</td>\n",
              "      <td>835</td>\n",
              "    </tr>\n",
              "    <tr>\n",
              "      <th>176</th>\n",
              "      <td>3</td>\n",
              "      <td>13.17</td>\n",
              "      <td>2.59</td>\n",
              "      <td>2.37</td>\n",
              "      <td>20.0</td>\n",
              "      <td>120</td>\n",
              "      <td>1.65</td>\n",
              "      <td>0.68</td>\n",
              "      <td>0.53</td>\n",
              "      <td>1.46</td>\n",
              "      <td>9.30</td>\n",
              "      <td>0.60</td>\n",
              "      <td>1.62</td>\n",
              "      <td>840</td>\n",
              "    </tr>\n",
              "    <tr>\n",
              "      <th>177</th>\n",
              "      <td>3</td>\n",
              "      <td>14.13</td>\n",
              "      <td>4.10</td>\n",
              "      <td>2.74</td>\n",
              "      <td>24.5</td>\n",
              "      <td>96</td>\n",
              "      <td>2.05</td>\n",
              "      <td>0.76</td>\n",
              "      <td>0.56</td>\n",
              "      <td>1.35</td>\n",
              "      <td>9.20</td>\n",
              "      <td>0.61</td>\n",
              "      <td>1.60</td>\n",
              "      <td>560</td>\n",
              "    </tr>\n",
              "  </tbody>\n",
              "</table>\n",
              "<p>178 rows × 14 columns</p>\n",
              "</div>\n",
              "    <div class=\"colab-df-buttons\">\n",
              "\n",
              "  <div class=\"colab-df-container\">\n",
              "    <button class=\"colab-df-convert\" onclick=\"convertToInteractive('df-6dbf8734-69ca-4024-89f4-f10733829f3f')\"\n",
              "            title=\"Convert this dataframe to an interactive table.\"\n",
              "            style=\"display:none;\">\n",
              "\n",
              "  <svg xmlns=\"http://www.w3.org/2000/svg\" height=\"24px\" viewBox=\"0 -960 960 960\">\n",
              "    <path d=\"M120-120v-720h720v720H120Zm60-500h600v-160H180v160Zm220 220h160v-160H400v160Zm0 220h160v-160H400v160ZM180-400h160v-160H180v160Zm440 0h160v-160H620v160ZM180-180h160v-160H180v160Zm440 0h160v-160H620v160Z\"/>\n",
              "  </svg>\n",
              "    </button>\n",
              "\n",
              "  <style>\n",
              "    .colab-df-container {\n",
              "      display:flex;\n",
              "      gap: 12px;\n",
              "    }\n",
              "\n",
              "    .colab-df-convert {\n",
              "      background-color: #E8F0FE;\n",
              "      border: none;\n",
              "      border-radius: 50%;\n",
              "      cursor: pointer;\n",
              "      display: none;\n",
              "      fill: #1967D2;\n",
              "      height: 32px;\n",
              "      padding: 0 0 0 0;\n",
              "      width: 32px;\n",
              "    }\n",
              "\n",
              "    .colab-df-convert:hover {\n",
              "      background-color: #E2EBFA;\n",
              "      box-shadow: 0px 1px 2px rgba(60, 64, 67, 0.3), 0px 1px 3px 1px rgba(60, 64, 67, 0.15);\n",
              "      fill: #174EA6;\n",
              "    }\n",
              "\n",
              "    .colab-df-buttons div {\n",
              "      margin-bottom: 4px;\n",
              "    }\n",
              "\n",
              "    [theme=dark] .colab-df-convert {\n",
              "      background-color: #3B4455;\n",
              "      fill: #D2E3FC;\n",
              "    }\n",
              "\n",
              "    [theme=dark] .colab-df-convert:hover {\n",
              "      background-color: #434B5C;\n",
              "      box-shadow: 0px 1px 3px 1px rgba(0, 0, 0, 0.15);\n",
              "      filter: drop-shadow(0px 1px 2px rgba(0, 0, 0, 0.3));\n",
              "      fill: #FFFFFF;\n",
              "    }\n",
              "  </style>\n",
              "\n",
              "    <script>\n",
              "      const buttonEl =\n",
              "        document.querySelector('#df-6dbf8734-69ca-4024-89f4-f10733829f3f button.colab-df-convert');\n",
              "      buttonEl.style.display =\n",
              "        google.colab.kernel.accessAllowed ? 'block' : 'none';\n",
              "\n",
              "      async function convertToInteractive(key) {\n",
              "        const element = document.querySelector('#df-6dbf8734-69ca-4024-89f4-f10733829f3f');\n",
              "        const dataTable =\n",
              "          await google.colab.kernel.invokeFunction('convertToInteractive',\n",
              "                                                    [key], {});\n",
              "        if (!dataTable) return;\n",
              "\n",
              "        const docLinkHtml = 'Like what you see? Visit the ' +\n",
              "          '<a target=\"_blank\" href=https://colab.research.google.com/notebooks/data_table.ipynb>data table notebook</a>'\n",
              "          + ' to learn more about interactive tables.';\n",
              "        element.innerHTML = '';\n",
              "        dataTable['output_type'] = 'display_data';\n",
              "        await google.colab.output.renderOutput(dataTable, element);\n",
              "        const docLink = document.createElement('div');\n",
              "        docLink.innerHTML = docLinkHtml;\n",
              "        element.appendChild(docLink);\n",
              "      }\n",
              "    </script>\n",
              "  </div>\n",
              "\n",
              "\n",
              "<div id=\"df-7b0a93b7-db46-4ef2-b671-a772833f59b6\">\n",
              "  <button class=\"colab-df-quickchart\" onclick=\"quickchart('df-7b0a93b7-db46-4ef2-b671-a772833f59b6')\"\n",
              "            title=\"Suggest charts\"\n",
              "            style=\"display:none;\">\n",
              "\n",
              "<svg xmlns=\"http://www.w3.org/2000/svg\" height=\"24px\"viewBox=\"0 0 24 24\"\n",
              "     width=\"24px\">\n",
              "    <g>\n",
              "        <path d=\"M19 3H5c-1.1 0-2 .9-2 2v14c0 1.1.9 2 2 2h14c1.1 0 2-.9 2-2V5c0-1.1-.9-2-2-2zM9 17H7v-7h2v7zm4 0h-2V7h2v10zm4 0h-2v-4h2v4z\"/>\n",
              "    </g>\n",
              "</svg>\n",
              "  </button>\n",
              "\n",
              "<style>\n",
              "  .colab-df-quickchart {\n",
              "      --bg-color: #E8F0FE;\n",
              "      --fill-color: #1967D2;\n",
              "      --hover-bg-color: #E2EBFA;\n",
              "      --hover-fill-color: #174EA6;\n",
              "      --disabled-fill-color: #AAA;\n",
              "      --disabled-bg-color: #DDD;\n",
              "  }\n",
              "\n",
              "  [theme=dark] .colab-df-quickchart {\n",
              "      --bg-color: #3B4455;\n",
              "      --fill-color: #D2E3FC;\n",
              "      --hover-bg-color: #434B5C;\n",
              "      --hover-fill-color: #FFFFFF;\n",
              "      --disabled-bg-color: #3B4455;\n",
              "      --disabled-fill-color: #666;\n",
              "  }\n",
              "\n",
              "  .colab-df-quickchart {\n",
              "    background-color: var(--bg-color);\n",
              "    border: none;\n",
              "    border-radius: 50%;\n",
              "    cursor: pointer;\n",
              "    display: none;\n",
              "    fill: var(--fill-color);\n",
              "    height: 32px;\n",
              "    padding: 0;\n",
              "    width: 32px;\n",
              "  }\n",
              "\n",
              "  .colab-df-quickchart:hover {\n",
              "    background-color: var(--hover-bg-color);\n",
              "    box-shadow: 0 1px 2px rgba(60, 64, 67, 0.3), 0 1px 3px 1px rgba(60, 64, 67, 0.15);\n",
              "    fill: var(--button-hover-fill-color);\n",
              "  }\n",
              "\n",
              "  .colab-df-quickchart-complete:disabled,\n",
              "  .colab-df-quickchart-complete:disabled:hover {\n",
              "    background-color: var(--disabled-bg-color);\n",
              "    fill: var(--disabled-fill-color);\n",
              "    box-shadow: none;\n",
              "  }\n",
              "\n",
              "  .colab-df-spinner {\n",
              "    border: 2px solid var(--fill-color);\n",
              "    border-color: transparent;\n",
              "    border-bottom-color: var(--fill-color);\n",
              "    animation:\n",
              "      spin 1s steps(1) infinite;\n",
              "  }\n",
              "\n",
              "  @keyframes spin {\n",
              "    0% {\n",
              "      border-color: transparent;\n",
              "      border-bottom-color: var(--fill-color);\n",
              "      border-left-color: var(--fill-color);\n",
              "    }\n",
              "    20% {\n",
              "      border-color: transparent;\n",
              "      border-left-color: var(--fill-color);\n",
              "      border-top-color: var(--fill-color);\n",
              "    }\n",
              "    30% {\n",
              "      border-color: transparent;\n",
              "      border-left-color: var(--fill-color);\n",
              "      border-top-color: var(--fill-color);\n",
              "      border-right-color: var(--fill-color);\n",
              "    }\n",
              "    40% {\n",
              "      border-color: transparent;\n",
              "      border-right-color: var(--fill-color);\n",
              "      border-top-color: var(--fill-color);\n",
              "    }\n",
              "    60% {\n",
              "      border-color: transparent;\n",
              "      border-right-color: var(--fill-color);\n",
              "    }\n",
              "    80% {\n",
              "      border-color: transparent;\n",
              "      border-right-color: var(--fill-color);\n",
              "      border-bottom-color: var(--fill-color);\n",
              "    }\n",
              "    90% {\n",
              "      border-color: transparent;\n",
              "      border-bottom-color: var(--fill-color);\n",
              "    }\n",
              "  }\n",
              "</style>\n",
              "\n",
              "  <script>\n",
              "    async function quickchart(key) {\n",
              "      const quickchartButtonEl =\n",
              "        document.querySelector('#' + key + ' button');\n",
              "      quickchartButtonEl.disabled = true;  // To prevent multiple clicks.\n",
              "      quickchartButtonEl.classList.add('colab-df-spinner');\n",
              "      try {\n",
              "        const charts = await google.colab.kernel.invokeFunction(\n",
              "            'suggestCharts', [key], {});\n",
              "      } catch (error) {\n",
              "        console.error('Error during call to suggestCharts:', error);\n",
              "      }\n",
              "      quickchartButtonEl.classList.remove('colab-df-spinner');\n",
              "      quickchartButtonEl.classList.add('colab-df-quickchart-complete');\n",
              "    }\n",
              "    (() => {\n",
              "      let quickchartButtonEl =\n",
              "        document.querySelector('#df-7b0a93b7-db46-4ef2-b671-a772833f59b6 button');\n",
              "      quickchartButtonEl.style.display =\n",
              "        google.colab.kernel.accessAllowed ? 'block' : 'none';\n",
              "    })();\n",
              "  </script>\n",
              "</div>\n",
              "\n",
              "  <div id=\"id_ccc5af0d-73ed-413c-8f49-584df3719cea\">\n",
              "    <style>\n",
              "      .colab-df-generate {\n",
              "        background-color: #E8F0FE;\n",
              "        border: none;\n",
              "        border-radius: 50%;\n",
              "        cursor: pointer;\n",
              "        display: none;\n",
              "        fill: #1967D2;\n",
              "        height: 32px;\n",
              "        padding: 0 0 0 0;\n",
              "        width: 32px;\n",
              "      }\n",
              "\n",
              "      .colab-df-generate:hover {\n",
              "        background-color: #E2EBFA;\n",
              "        box-shadow: 0px 1px 2px rgba(60, 64, 67, 0.3), 0px 1px 3px 1px rgba(60, 64, 67, 0.15);\n",
              "        fill: #174EA6;\n",
              "      }\n",
              "\n",
              "      [theme=dark] .colab-df-generate {\n",
              "        background-color: #3B4455;\n",
              "        fill: #D2E3FC;\n",
              "      }\n",
              "\n",
              "      [theme=dark] .colab-df-generate:hover {\n",
              "        background-color: #434B5C;\n",
              "        box-shadow: 0px 1px 3px 1px rgba(0, 0, 0, 0.15);\n",
              "        filter: drop-shadow(0px 1px 2px rgba(0, 0, 0, 0.3));\n",
              "        fill: #FFFFFF;\n",
              "      }\n",
              "    </style>\n",
              "    <button class=\"colab-df-generate\" onclick=\"generateWithVariable('df_wine')\"\n",
              "            title=\"Generate code using this dataframe.\"\n",
              "            style=\"display:none;\">\n",
              "\n",
              "  <svg xmlns=\"http://www.w3.org/2000/svg\" height=\"24px\"viewBox=\"0 0 24 24\"\n",
              "       width=\"24px\">\n",
              "    <path d=\"M7,19H8.4L18.45,9,17,7.55,7,17.6ZM5,21V16.75L18.45,3.32a2,2,0,0,1,2.83,0l1.4,1.43a1.91,1.91,0,0,1,.58,1.4,1.91,1.91,0,0,1-.58,1.4L9.25,21ZM18.45,9,17,7.55Zm-12,3A5.31,5.31,0,0,0,4.9,8.1,5.31,5.31,0,0,0,1,6.5,5.31,5.31,0,0,0,4.9,4.9,5.31,5.31,0,0,0,6.5,1,5.31,5.31,0,0,0,8.1,4.9,5.31,5.31,0,0,0,12,6.5,5.46,5.46,0,0,0,6.5,12Z\"/>\n",
              "  </svg>\n",
              "    </button>\n",
              "    <script>\n",
              "      (() => {\n",
              "      const buttonEl =\n",
              "        document.querySelector('#id_ccc5af0d-73ed-413c-8f49-584df3719cea button.colab-df-generate');\n",
              "      buttonEl.style.display =\n",
              "        google.colab.kernel.accessAllowed ? 'block' : 'none';\n",
              "\n",
              "      buttonEl.onclick = () => {\n",
              "        google.colab.notebook.generateWithVariable('df_wine');\n",
              "      }\n",
              "      })();\n",
              "    </script>\n",
              "  </div>\n",
              "\n",
              "    </div>\n",
              "  </div>\n"
            ],
            "application/vnd.google.colaboratory.intrinsic+json": {
              "type": "dataframe",
              "variable_name": "df_wine",
              "summary": "{\n  \"name\": \"df_wine\",\n  \"rows\": 178,\n  \"fields\": [\n    {\n      \"column\": 0,\n      \"properties\": {\n        \"dtype\": \"number\",\n        \"std\": 0,\n        \"min\": 1,\n        \"max\": 3,\n        \"num_unique_values\": 3,\n        \"samples\": [\n          1,\n          2,\n          3\n        ],\n        \"semantic_type\": \"\",\n        \"description\": \"\"\n      }\n    },\n    {\n      \"column\": 1,\n      \"properties\": {\n        \"dtype\": \"number\",\n        \"std\": 0.8118265380058575,\n        \"min\": 11.03,\n        \"max\": 14.83,\n        \"num_unique_values\": 126,\n        \"samples\": [\n          11.62,\n          13.64,\n          13.69\n        ],\n        \"semantic_type\": \"\",\n        \"description\": \"\"\n      }\n    },\n    {\n      \"column\": 2,\n      \"properties\": {\n        \"dtype\": \"number\",\n        \"std\": 1.1171460976144627,\n        \"min\": 0.74,\n        \"max\": 5.8,\n        \"num_unique_values\": 133,\n        \"samples\": [\n          1.21,\n          2.83,\n          1.8\n        ],\n        \"semantic_type\": \"\",\n        \"description\": \"\"\n      }\n    },\n    {\n      \"column\": 3,\n      \"properties\": {\n        \"dtype\": \"number\",\n        \"std\": 0.27434400906081485,\n        \"min\": 1.36,\n        \"max\": 3.23,\n        \"num_unique_values\": 79,\n        \"samples\": [\n          2.31,\n          2.43,\n          2.52\n        ],\n        \"semantic_type\": \"\",\n        \"description\": \"\"\n      }\n    },\n    {\n      \"column\": 4,\n      \"properties\": {\n        \"dtype\": \"number\",\n        \"std\": 3.339563767173505,\n        \"min\": 10.6,\n        \"max\": 30.0,\n        \"num_unique_values\": 63,\n        \"samples\": [\n          25.5,\n          28.5,\n          15.6\n        ],\n        \"semantic_type\": \"\",\n        \"description\": \"\"\n      }\n    },\n    {\n      \"column\": 5,\n      \"properties\": {\n        \"dtype\": \"number\",\n        \"std\": 14,\n        \"min\": 70,\n        \"max\": 162,\n        \"num_unique_values\": 53,\n        \"samples\": [\n          126,\n          85,\n          162\n        ],\n        \"semantic_type\": \"\",\n        \"description\": \"\"\n      }\n    },\n    {\n      \"column\": 6,\n      \"properties\": {\n        \"dtype\": \"number\",\n        \"std\": 0.6258510488339893,\n        \"min\": 0.98,\n        \"max\": 3.88,\n        \"num_unique_values\": 97,\n        \"samples\": [\n          1.68,\n          2.11,\n          1.35\n        ],\n        \"semantic_type\": \"\",\n        \"description\": \"\"\n      }\n    },\n    {\n      \"column\": 7,\n      \"properties\": {\n        \"dtype\": \"number\",\n        \"std\": 0.9988586850169467,\n        \"min\": 0.34,\n        \"max\": 5.08,\n        \"num_unique_values\": 132,\n        \"samples\": [\n          3.18,\n          2.5,\n          3.17\n        ],\n        \"semantic_type\": \"\",\n        \"description\": \"\"\n      }\n    },\n    {\n      \"column\": 8,\n      \"properties\": {\n        \"dtype\": \"number\",\n        \"std\": 0.12445334029667937,\n        \"min\": 0.13,\n        \"max\": 0.66,\n        \"num_unique_values\": 39,\n        \"samples\": [\n          0.58,\n          0.41,\n          0.39\n        ],\n        \"semantic_type\": \"\",\n        \"description\": \"\"\n      }\n    },\n    {\n      \"column\": 9,\n      \"properties\": {\n        \"dtype\": \"number\",\n        \"std\": 0.5723588626747613,\n        \"min\": 0.41,\n        \"max\": 3.58,\n        \"num_unique_values\": 101,\n        \"samples\": [\n          0.75,\n          1.77,\n          1.42\n        ],\n        \"semantic_type\": \"\",\n        \"description\": \"\"\n      }\n    },\n    {\n      \"column\": 10,\n      \"properties\": {\n        \"dtype\": \"number\",\n        \"std\": 2.318285871822413,\n        \"min\": 1.28,\n        \"max\": 13.0,\n        \"num_unique_values\": 132,\n        \"samples\": [\n          2.95,\n          3.3,\n          5.1\n        ],\n        \"semantic_type\": \"\",\n        \"description\": \"\"\n      }\n    },\n    {\n      \"column\": 11,\n      \"properties\": {\n        \"dtype\": \"number\",\n        \"std\": 0.22857156582982338,\n        \"min\": 0.48,\n        \"max\": 1.71,\n        \"num_unique_values\": 78,\n        \"samples\": [\n          1.22,\n          1.04,\n          1.45\n        ],\n        \"semantic_type\": \"\",\n        \"description\": \"\"\n      }\n    },\n    {\n      \"column\": 12,\n      \"properties\": {\n        \"dtype\": \"number\",\n        \"std\": 0.7099904287650504,\n        \"min\": 1.27,\n        \"max\": 4.0,\n        \"num_unique_values\": 122,\n        \"samples\": [\n          4.0,\n          1.82,\n          1.59\n        ],\n        \"semantic_type\": \"\",\n        \"description\": \"\"\n      }\n    },\n    {\n      \"column\": 13,\n      \"properties\": {\n        \"dtype\": \"number\",\n        \"std\": 314,\n        \"min\": 278,\n        \"max\": 1680,\n        \"num_unique_values\": 121,\n        \"samples\": [\n          1375,\n          1270,\n          735\n        ],\n        \"semantic_type\": \"\",\n        \"description\": \"\"\n      }\n    }\n  ]\n}"
            }
          },
          "metadata": {},
          "execution_count": 2
        }
      ]
    },
    {
      "cell_type": "code",
      "source": [
        "# Wine dataset을 7:3 비율로 나누기\n",
        "from sklearn.model_selection import train_test_split\n",
        "\n",
        "X,y = df_wine.iloc[:, 1:].values, df_wine.iloc[:, 0].values\n",
        "X_train, X_test, y_train, y_test = train_test_split(X, y, test_size=0.3, random_state=0, stratify=y)\n"
      ],
      "metadata": {
        "id": "HBGD3USlAMJ_"
      },
      "execution_count": 3,
      "outputs": []
    },
    {
      "cell_type": "code",
      "source": [
        "# 특성을 표준화 및 전처리\n",
        "from sklearn.preprocessing import StandardScaler\n",
        "sc = StandardScaler()\n",
        "X_train_std = sc.fit_transform(X_train)\n",
        "X_test_std = sc.transform(X_test)"
      ],
      "metadata": {
        "id": "N_BL2tmjBOiv"
      },
      "execution_count": 4,
      "outputs": []
    },
    {
      "cell_type": "code",
      "source": [
        "\n",
        "# 확인\n",
        "print(\"Training data after standardization:\", X_train_std[:5])\n",
        "print(\"Test data after standardization:\", X_test_std[:5])"
      ],
      "metadata": {
        "colab": {
          "base_uri": "https://localhost:8080/"
        },
        "id": "4illQReDBzxr",
        "outputId": "ce146bbb-6245-4afb-d677-031939768f9f"
      },
      "execution_count": 5,
      "outputs": [
        {
          "output_type": "stream",
          "name": "stdout",
          "text": [
            "Training data after standardization: [[ 0.71225893  2.22048673 -0.13025864  0.05962872 -0.50432733 -0.52831584\n",
            "  -1.24000033  0.84118003 -1.05215112 -0.29218864 -0.20017028 -0.82164144\n",
            "  -0.62946362]\n",
            " [ 0.88229214 -0.70457155  1.17533605 -0.09065504  2.34147876  1.01675879\n",
            "   0.66299475  1.0887425  -0.49293533  0.13152077  1.33982592  0.54931269\n",
            "   1.47568796]\n",
            " [ 0.84585645 -0.73022996  1.17533605  0.81104754  0.13597904  1.09807851\n",
            "   1.16326665 -0.64419483  1.25249578  0.25863359  1.06806189  0.1308109\n",
            "   1.62934866]\n",
            " [ 0.57866141 -0.4736459   0.98882252 -0.24093881  0.77628541  0.04092218\n",
            "   0.45700044 -0.64419483 -0.1709626  -0.37693052  0.66041583  0.36170844\n",
            "   1.045438  ]\n",
            " [-0.52655446  0.09083903 -0.68979922 -0.39122257 -0.36203702 -1.1463457\n",
            "  -1.37732987  2.16151323 -1.18771859  0.85182676 -1.01546239 -1.49990297\n",
            "  -0.18384759]]\n",
            "Test data after standardization: [[ 0.89443737 -0.38811788  1.10073064 -0.81201711  1.13201117  1.09807851\n",
            "   0.71204102  0.18101342  0.06628046  0.51285923  0.79629785  0.44829502\n",
            "   1.90593792]\n",
            " [-1.04879931 -0.77299397  0.54119006 -0.24093881  0.3494145  -0.70721922\n",
            "  -0.30812129  0.67613838 -1.03520519 -0.90656727  2.24570604 -0.56188171\n",
            "  -1.22874035]\n",
            " [ 1.64744158 -0.41377628  0.24276841 -1.56343594 -0.21974672  0.28488133\n",
            "   0.44719119 -0.561674    0.57465846  0.06796436  0.29806378  1.38631627\n",
            "   1.64471473]\n",
            " [ 0.2021593  -0.4907515  -0.91361545 -2.58536553  0.06483389  0.52884049\n",
            "   0.68261326 -0.89175731 -0.61155686 -0.30066282  0.4339458   1.12655654\n",
            "   0.90714337]\n",
            " [-0.80589473 -1.09800044 -1.06282627 -0.39122257 -0.78890794  1.94380357\n",
            "   1.6537293  -1.05679896  0.52382066 -0.2498177   0.38865179  0.21739748\n",
            "  -0.29141008]]\n"
          ]
        }
      ]
    },
    {
      "cell_type": "code",
      "source": [
        "#Wine dataset의 공분산 행렬에 대한 고유 벡터와 고윳값 쌍 계산\n",
        "import numpy as np\n",
        "cov_mat = np.cov(X_train_std.T)\n",
        "eigen_vals, eigen_vecs = np.linalg.eig(cov_mat)\n",
        "print(\"\\n고윳값 \\n%s\" % eigen_vals)\n"
      ],
      "metadata": {
        "colab": {
          "base_uri": "https://localhost:8080/"
        },
        "id": "6tZyINDFCQyn",
        "outputId": "896e919c-b435-42aa-ecd5-8a00e0fbad6f"
      },
      "execution_count": 6,
      "outputs": [
        {
          "output_type": "stream",
          "name": "stdout",
          "text": [
            "\n",
            "고윳값 \n",
            "[4.84274532 2.41602459 1.54845825 0.96120438 0.84166161 0.6620634\n",
            " 0.51828472 0.34650377 0.3131368  0.10754642 0.21357215 0.15362835\n",
            " 0.1808613 ]\n"
          ]
        }
      ]
    },
    {
      "cell_type": "code",
      "source": [
        "#cumsum함수로 설명된 분산의 누적 합 계산.\n",
        "tot = sum(eigen_vals)\n",
        "var_exp = [(i / tot) for i in sorted(eigen_vals, reverse=True)]\n",
        "cum_var_exp = np.cumsum(var_exp)\n",
        "\n",
        "#step함수로 그래프그리기\n",
        "import matplotlib.pyplot as plt\n",
        "plt.bar(range(1, 14), var_exp, alpha=0.5, align='center', label='individual explained variance')\n",
        "plt.step(range(1, 14), cum_var_exp, where='mid', label='cumulative explained variance')\n",
        "plt.ylabel('Explained variance ratio')\n",
        "plt.xlabel('Principal components')\n",
        "plt.legend(loc='best')\n",
        "plt.tight_layout()\n",
        "plt.show()"
      ],
      "metadata": {
        "colab": {
          "base_uri": "https://localhost:8080/",
          "height": 487
        },
        "id": "68ZkeWgEC42Z",
        "outputId": "359c994a-65c9-4278-fea9-7d91c5e68803"
      },
      "execution_count": 7,
      "outputs": [
        {
          "output_type": "display_data",
          "data": {
            "text/plain": [
              "<Figure size 640x480 with 1 Axes>"
            ],
            "image/png": "[encoded data removed]"
          },
          "metadata": {}
        }
      ]
    },
    {
      "cell_type": "code",
      "source": [
        "# 고윳값, 고유 벡터 튜플 리스트 만들기\n",
        "eigen_pairs = [(np.abs(eigen_vals[i]), eigen_vecs[:, i]) for i in range(len(eigen_vals))]\n",
        "# 고윳값 기준으로 내림차순 정렬\n",
        "eigen_pairs.sort(key=lambda k: k[0], reverse=True)"
      ],
      "metadata": {
        "id": "KZD4WLZpGI6-"
      },
      "execution_count": 8,
      "outputs": []
    },
    {
      "cell_type": "code",
      "source": [
        "#가장 큰 2개의 고윳값에 해당하는 고유 벡터 선택 (분산의 약 60% 선택)\n",
        "w = np.hstack((eigen_pairs[0][1][:, np.newaxis], eigen_pairs[1][1][:, np.newaxis]))\n",
        "print('Matrix W:\\n', w)"
      ],
      "metadata": {
        "colab": {
          "base_uri": "https://localhost:8080/"
        },
        "id": "_yYO-G9BIEdg",
        "outputId": "2c7b5dd2-dba0-499a-fa60-46a8afdc7968"
      },
      "execution_count": 9,
      "outputs": [
        {
          "output_type": "stream",
          "name": "stdout",
          "text": [
            "Matrix W:\n",
            " [[-0.13724218  0.50303478]\n",
            " [ 0.24724326  0.16487119]\n",
            " [-0.02545159  0.24456476]\n",
            " [ 0.20694508 -0.11352904]\n",
            " [-0.15436582  0.28974518]\n",
            " [-0.39376952  0.05080104]\n",
            " [-0.41735106 -0.02287338]\n",
            " [ 0.30572896  0.09048885]\n",
            " [-0.30668347  0.00835233]\n",
            " [ 0.07554066  0.54977581]\n",
            " [-0.32613263 -0.20716433]\n",
            " [-0.36861022 -0.24902536]\n",
            " [-0.29669651  0.38022942]]\n"
          ]
        }
      ]
    },
    {
      "cell_type": "code",
      "source": [
        "#최상위 2개 고유벡터로부터 13x2 차원의 투영 행렬 W를 만든다.\n",
        "X_train_std[0].dot(w)"
      ],
      "metadata": {
        "colab": {
          "base_uri": "https://localhost:8080/"
        },
        "id": "Mmy2GlxTIRR8",
        "outputId": "006c33b3-5673-4ff1-9cef-40c3ce98e5d0"
      },
      "execution_count": 10,
      "outputs": [
        {
          "output_type": "execute_result",
          "data": {
            "text/plain": [
              "array([2.38299011, 0.45458499])"
            ]
          },
          "metadata": {},
          "execution_count": 10
        }
      ]
    },
    {
      "cell_type": "code",
      "source": [
        "#전체 124x13차원의 훈련 데이터셋을 행렬 점곱으로 두 개의 주성분에 투영하기.\n",
        "X_train_pca = X_train_std.dot(w)\n",
        "X_train_pca"
      ],
      "metadata": {
        "colab": {
          "base_uri": "https://localhost:8080/"
        },
        "id": "v5vPDhMNJDGU",
        "outputId": "7fb27aaf-fb39-44c0-8630-92a10c18577a"
      },
      "execution_count": 11,
      "outputs": [
        {
          "output_type": "execute_result",
          "data": {
            "text/plain": [
              "array([[ 2.38299011,  0.45458499],\n",
              "       [-1.96578183,  1.65376939],\n",
              "       [-2.53907598,  1.02909066],\n",
              "       [-1.43010776,  0.6024011 ],\n",
              "       [ 3.14147227,  0.66214979],\n",
              "       [ 0.50253552, -2.08907131],\n",
              "       [ 0.04867722, -2.27536044],\n",
              "       [ 2.47888989, -0.08603318],\n",
              "       [ 2.01900259, -1.3538719 ],\n",
              "       [ 0.75156583, -2.55367947],\n",
              "       [ 0.72268915, -1.18404391],\n",
              "       [-3.00366211,  0.94626934],\n",
              "       [ 2.57518878, -1.0697549 ],\n",
              "       [ 3.73151104,  1.01968876],\n",
              "       [-1.12276518,  0.13877   ],\n",
              "       [ 2.85996853,  2.28819559],\n",
              "       [-0.74717125, -3.21746061],\n",
              "       [-1.58427878,  0.16048055],\n",
              "       [ 3.38887101,  2.11550689],\n",
              "       [ 3.15405473,  0.54233966],\n",
              "       [-1.28036506, -1.72926871],\n",
              "       [-1.71438911,  0.71745249],\n",
              "       [-1.55040291, -1.7580591 ],\n",
              "       [ 1.10984489, -1.20480693],\n",
              "       [-0.69108418, -1.71385374],\n",
              "       [-2.086036  , -1.68453671],\n",
              "       [ 2.90393456,  1.95258805],\n",
              "       [-2.07635784,  1.47183304],\n",
              "       [-1.74756185, -1.25842546],\n",
              "       [ 2.59424456, -0.1056037 ],\n",
              "       [-2.50372355,  0.70412212],\n",
              "       [-2.19448402,  2.18657552],\n",
              "       [ 3.91634534,  0.16136475],\n",
              "       [-1.11739618,  0.51921086],\n",
              "       [-0.89996804, -2.04759575],\n",
              "       [-1.71469178,  0.61392169],\n",
              "       [-2.48581303,  0.76839561],\n",
              "       [-0.76080562, -1.67615627],\n",
              "       [ 2.9265371 ,  0.18854741],\n",
              "       [ 2.94423716,  1.34812388],\n",
              "       [-2.38993219,  1.0848074 ],\n",
              "       [ 2.63885049,  0.75274937],\n",
              "       [ 2.51009031,  2.25237953],\n",
              "       [ 3.65248086,  1.74839925],\n",
              "       [-2.65169609,  1.01997476],\n",
              "       [ 0.52544559, -2.13528249],\n",
              "       [ 2.70197573,  0.56476307],\n",
              "       [ 3.18414708,  2.58094695],\n",
              "       [ 1.12517041, -1.85054449],\n",
              "       [ 2.92366519,  0.41699915],\n",
              "       [-1.96122314, -1.28613661],\n",
              "       [ 0.54473673, -1.07897226],\n",
              "       [-0.77030308, -1.93386815],\n",
              "       [-1.16670455,  0.00489815],\n",
              "       [-1.36475309, -2.13572269],\n",
              "       [ 0.43563732, -2.56929607],\n",
              "       [ 2.96191745,  1.91091009],\n",
              "       [ 2.83609557,  0.65386032],\n",
              "       [ 1.90402089, -0.35296542],\n",
              "       [-2.4858391 , -0.21308835],\n",
              "       [-2.16575568,  1.1468486 ],\n",
              "       [ 0.00669776, -0.94337624],\n",
              "       [ 1.06560181,  3.31221025],\n",
              "       [ 2.13117911,  1.90551304],\n",
              "       [ 1.53543483, -1.50854979],\n",
              "       [-2.66783112,  1.75933599],\n",
              "       [ 0.57279998, -2.7511383 ],\n",
              "       [-0.70710916, -2.43798549],\n",
              "       [-0.99606577, -1.4772411 ],\n",
              "       [-2.67324153,  1.35779609],\n",
              "       [-2.36367378,  1.66537927],\n",
              "       [-0.39171875,  0.13747499],\n",
              "       [-2.98908845,  2.16983165],\n",
              "       [-1.91822539,  1.60141809],\n",
              "       [ 2.3114458 ,  0.207123  ],\n",
              "       [-1.06050503,  0.6004608 ],\n",
              "       [-2.74858609, -0.29016054],\n",
              "       [ 2.26650077,  2.14491758],\n",
              "       [-1.15517469, -0.50262909],\n",
              "       [ 0.16602503, -2.26850051],\n",
              "       [ 1.35589389,  0.33353007],\n",
              "       [-3.31185057,  1.39240115],\n",
              "       [-0.33245686, -2.15639865],\n",
              "       [-2.23205085,  0.52868143],\n",
              "       [ 0.18583758, -1.44446967],\n",
              "       [ 0.84560856,  0.17151684],\n",
              "       [ 2.69500472,  2.74522492],\n",
              "       [ 0.44645674, -0.62393943],\n",
              "       [-1.88961007, -0.04400723],\n",
              "       [-3.08131761,  1.59724429],\n",
              "       [-3.45716348,  1.21428442],\n",
              "       [ 3.87665629,  0.46446004],\n",
              "       [ 1.575516  , -1.82299839],\n",
              "       [-3.43344371,  1.6116814 ],\n",
              "       [-4.20642597,  2.20145366],\n",
              "       [-0.14042971, -2.36871639],\n",
              "       [ 1.82731521, -1.39485103],\n",
              "       [ 2.20564744,  1.28462066],\n",
              "       [ 1.64999054,  2.33211134],\n",
              "       [-1.4611033 , -0.46480324],\n",
              "       [-0.60047516,  0.00920072],\n",
              "       [-3.08276231,  0.28287148],\n",
              "       [ 0.45035749, -2.20263755],\n",
              "       [ 0.90806897, -2.0881686 ],\n",
              "       [ 3.24973637, -0.18273485],\n",
              "       [-3.07882055,  0.69622621],\n",
              "       [ 2.54277306,  1.88571652],\n",
              "       [-2.84838157,  0.63274325],\n",
              "       [-0.88997271, -0.67927226],\n",
              "       [ 0.32368249, -2.07006175],\n",
              "       [ 0.32007527, -2.88708519],\n",
              "       [ 0.44889188, -2.14872532],\n",
              "       [-2.46582558,  1.0745577 ],\n",
              "       [ 2.81678113,  0.56344444],\n",
              "       [-2.16983025,  0.16644199],\n",
              "       [-2.66728229,  1.38137702],\n",
              "       [-3.53223924,  2.57906029],\n",
              "       [-1.96637688,  1.18319185],\n",
              "       [ 1.68741216, -1.35075321],\n",
              "       [ 0.43521077, -2.40355817],\n",
              "       [ 2.59045115,  1.63852921],\n",
              "       [ 4.35308397,  0.66536041],\n",
              "       [-1.84315373, -1.50688415],\n",
              "       [-0.40860955, -1.29720607]])"
            ]
          },
          "metadata": {},
          "execution_count": 11
        }
      ]
    },
    {
      "cell_type": "code",
      "source": [
        "#124x2 차원의 행렬로 변환된 Wine 훈련 데이터셋을 2차원 산점도로 시각화\n",
        "colors = ['r', 'b', 'g']\n",
        "markers = ['s', 'x', 'o']\n",
        "for l, c, m in zip(np.unique(y_train), colors, markers):\n",
        "    plt.scatter(X_train_pca[y_train==l, 0], X_train_pca[y_train==l, 1], c=c, label=l, marker=m)\n",
        "\n",
        "plt.xlabel('PC 1')\n",
        "plt.ylabel('PC 2')\n",
        "plt.legend(loc='lower left')\n",
        "plt.tight_layout()\n",
        "plt.show()"
      ],
      "metadata": {
        "colab": {
          "base_uri": "https://localhost:8080/",
          "height": 487
        },
        "id": "vAt2X7mWJPHk",
        "outputId": "8ca966c3-7299-4b3f-f11c-bec0efb0eb98"
      },
      "execution_count": 12,
      "outputs": [
        {
          "output_type": "display_data",
          "data": {
            "text/plain": [
              "<Figure size 640x480 with 1 Axes>"
            ],
            "image/png": "[encoded data removed]"
          },
          "metadata": {}
        }
      ]
    },
    {
      "cell_type": "code",
      "source": [
        "from matplotlib.colors import ListedColormap\n",
        "def plot_decision_regions(X, y, classifier, test_idx=None, resolution=0.02):\n",
        "  #마커와 컬러맵 준비\n",
        "  markers = ('s', 'x', 'o', '^', 'v')\n",
        "  colors = ('red', 'blue', 'lightgreen', 'gray', 'cyan')\n",
        "  cmap = ListedColormap(colors[:len(np.unique(y))])\n",
        "\n",
        "  #결정 경계 그리기\n",
        "  x1_min, x1_max = X[:, 0].min() - 1, X[:,0].max() + 1\n",
        "  x2_min, x2_max = X[:, 1].min() - 1, X[:, 1].max() + 1\n",
        "  xx1, xx2 = np.meshgrid(np.arange(x1_min, x1_max, resolution), np.arange(x2_min, x2_max, resolution))\n",
        "  lab = classifier.predict(np.array([xx1.ravel(), xx2.ravel()]).T)\n",
        "  lab = lab.reshape(xx1.shape)\n",
        "  plt.contourf(xx1, xx2, lab, alpha=0.3, cmap=cmap)\n",
        "  plt.xlim(xx1.min(), xx1.max())\n",
        "  plt.ylim(xx2.min(), xx2.max())\n",
        "\n",
        "  # class 샘플 표시\n",
        "  for idx, cl in enumerate(np.unique(y)):\n",
        "    plt.scatter(x=X[y == cl, 0], y=X[y == cl, 1], alpha=0.8, c=colors(idx), marker=markers[idx], label=f'Class{cl}', edgecolor='black')"
      ],
      "metadata": {
        "id": "Nng87xv2JzC1"
      },
      "execution_count": 13,
      "outputs": []
    },
    {
      "cell_type": "code",
      "source": [
        "from sklearn.linear_model import LogisticRegression\n",
        "from sklearn.decomposition import PCA\n",
        "pca = PCA(n_components=2)\n",
        "lr = LogisticRegression(multi_class='ovr', random_state=1, solver='lbfgs')\n",
        "# PCA 변환기의 로지스틱 회귀 추정기 초기화\n",
        "pca = PCA(n_components=2)\n",
        "lr = LogisticRegression(multi_class='ovr', random_state=1, solver='lbfgs')\n",
        "\n",
        "# 차원 축소\n",
        "X_train_pca = pca.fit_transform(X_train_std)\n",
        "X_test_pca = pca.transform(X_test_std)\n",
        "\n",
        "# 축소된 데이터셋으로 로지스틱 회귀 모델 훈련\n",
        "lr.fit(X_train_pca, y_train)\n",
        "\n",
        "# 결정 경계 시각화\n",
        "plot_decision_regions(X_train_pca, y_train, classifier=lr)\n",
        "plt.xlabel('PC 1')\n",
        "plt.ylabel('PC 2')\n",
        "plt.legend(loc='lower left')\n",
        "plt.tight_layout()\n",
        "plt.show()\n"
      ],
      "metadata": {
        "colab": {
          "base_uri": "https://localhost:8080/",
          "height": 522
        },
        "id": "uxu3EFWWp4cb",
        "outputId": "22c28012-4712-4937-df72-05da0661ba55"
      },
      "execution_count": 18,
      "outputs": [
        {
          "output_type": "stream",
          "name": "stderr",
          "text": [
            "<ipython-input-14-c815800b0284>:25: UserWarning: You passed a edgecolor/edgecolors ('black') for an unfilled marker ('x').  Matplotlib is ignoring the edgecolor in favor of the facecolor.  This behavior may change in the future.\n",
            "  plt.scatter(x=X[y == cl, 0], y=X[y == cl, 1],\n"
          ]
        },
        {
          "output_type": "display_data",
          "data": {
            "text/plain": [
              "<Figure size 640x480 with 1 Axes>"
            ],
            "image/png": "[encoded data removed]"
          },
          "metadata": {}
        }
      ]
    },
    {
      "cell_type": "code",
      "source": [
        "plot_decision_regions(X_test_pca, y_test, classifier=lr)\n",
        "plt.xlabel('PC 1')\n",
        "plt.ylabel('PC 2')\n",
        "plt.legend(loc='lower left')\n",
        "plt.tight_layout()\n",
        "plt.show()"
      ],
      "metadata": {
        "id": "4NWrtUbMNT83",
        "colab": {
          "base_uri": "https://localhost:8080/",
          "height": 522
        },
        "outputId": "b0f28579-2601-4522-968b-a08848edc8e6"
      },
      "execution_count": 19,
      "outputs": [
        {
          "output_type": "stream",
          "name": "stderr",
          "text": [
            "<ipython-input-14-c815800b0284>:25: UserWarning: You passed a edgecolor/edgecolors ('black') for an unfilled marker ('x').  Matplotlib is ignoring the edgecolor in favor of the facecolor.  This behavior may change in the future.\n",
            "  plt.scatter(x=X[y == cl, 0], y=X[y == cl, 1],\n"
          ]
        },
        {
          "output_type": "display_data",
          "data": {
            "text/plain": [
              "<Figure size 640x480 with 1 Axes>"
            ],
            "image/png": "[encoded data removed]"
          },
          "metadata": {}
        }
      ]
    },
    {
      "cell_type": "code",
      "source": [
        "pca=PCA(n_components=None)\n",
        "X_train_pca=pca.fit_transform(X_train_std)\n",
        "pca.explained_variance_ratio_"
      ],
      "metadata": {
        "id": "YLNTeUWxNWfx",
        "colab": {
          "base_uri": "https://localhost:8080/"
        },
        "outputId": "0d612125-1860-45c2-abc2-703e72c6b04f"
      },
      "execution_count": 20,
      "outputs": [
        {
          "output_type": "execute_result",
          "data": {
            "text/plain": [
              "array([0.36951469, 0.18434927, 0.11815159, 0.07334252, 0.06422108,\n",
              "       0.05051724, 0.03954654, 0.02643918, 0.02389319, 0.01629614,\n",
              "       0.01380021, 0.01172226, 0.00820609])"
            ]
          },
          "metadata": {},
          "execution_count": 20
        }
      ]
    },
    {
      "cell_type": "code",
      "source": [
        "loadings = eigen_vecs * np.sqrt(eigen_vals)\n",
        "loadings\n",
        "\n",
        "fig, ax = plt.subplots()\n",
        "ax.bar(range(13), loadings[:, 0], align='center')\n",
        "ax.set_ylabel('Loadings for PC 1')\n",
        "ax.set_xticks(range(13))\n",
        "ax.set_xticklabels(df_wine.columns[1:], rotation=30)\n",
        "plt.ylim([-1, 1])\n",
        "plt.tight_layout()\n",
        "plt.show()"
      ],
      "metadata": {
        "id": "5S4YnhjKO1AO",
        "colab": {
          "base_uri": "https://localhost:8080/",
          "height": 487
        },
        "outputId": "b9412f4b-6ad6-4871-e1cd-76083b33d3fd"
      },
      "execution_count": 21,
      "outputs": [
        {
          "output_type": "display_data",
          "data": {
            "text/plain": [
              "<Figure size 640x480 with 1 Axes>"
            ],
            "image/png": "[encoded data removed]"
          },
          "metadata": {}
        }
      ]
    },
    {
      "cell_type": "code",
      "source": [
        "import pandas as pd\n",
        "df_wine = pd.read_csv('https://archive.ics.uci.edu/ml/'\n",
        "'machine-learning-databases/wine/wine.data',header=None)"
      ],
      "metadata": {
        "id": "PFJY6djtQ7aO"
      },
      "execution_count": 22,
      "outputs": []
    },
    {
      "cell_type": "code",
      "source": [
        "# Wine dataset을 7:3 비율로 나누기\n",
        "from sklearn.model_selection import train_test_split\n",
        "\n",
        "X,y = df_wine.iloc[:, 1:].values, df_wine.iloc[:, 0].values\n",
        "X_train, X_test, y_train, y_test = train_test_split(X, y, test_size=0.3, random_state=0, stratify=y)"
      ],
      "metadata": {
        "id": "1zL62Kz-Q-i4"
      },
      "execution_count": 23,
      "outputs": []
    },
    {
      "cell_type": "code",
      "source": [
        "# 특성을 표준화 및 전처리\n",
        "from sklearn.preprocessing import StandardScaler\n",
        "sc = StandardScaler()\n",
        "X_train_std = sc.fit_transform(X_train)\n",
        "X_test_std = sc.transform(X_test)"
      ],
      "metadata": {
        "id": "hchO0kUbQ_D6"
      },
      "execution_count": 24,
      "outputs": []
    },
    {
      "cell_type": "code",
      "source": [
        "# 확인\n",
        "print(\"Training data after standardization:\", X_train_std[:5])\n",
        "print(\"Test data after standardization:\", X_test_std[:5])"
      ],
      "metadata": {
        "colab": {
          "base_uri": "https://localhost:8080/"
        },
        "id": "sjlfOB0WRFWW",
        "outputId": "43784cb0-3010-481d-976c-c42125860a5f"
      },
      "execution_count": 25,
      "outputs": [
        {
          "output_type": "stream",
          "name": "stdout",
          "text": [
            "Training data after standardization: [[ 0.71225893  2.22048673 -0.13025864  0.05962872 -0.50432733 -0.52831584\n",
            "  -1.24000033  0.84118003 -1.05215112 -0.29218864 -0.20017028 -0.82164144\n",
            "  -0.62946362]\n",
            " [ 0.88229214 -0.70457155  1.17533605 -0.09065504  2.34147876  1.01675879\n",
            "   0.66299475  1.0887425  -0.49293533  0.13152077  1.33982592  0.54931269\n",
            "   1.47568796]\n",
            " [ 0.84585645 -0.73022996  1.17533605  0.81104754  0.13597904  1.09807851\n",
            "   1.16326665 -0.64419483  1.25249578  0.25863359  1.06806189  0.1308109\n",
            "   1.62934866]\n",
            " [ 0.57866141 -0.4736459   0.98882252 -0.24093881  0.77628541  0.04092218\n",
            "   0.45700044 -0.64419483 -0.1709626  -0.37693052  0.66041583  0.36170844\n",
            "   1.045438  ]\n",
            " [-0.52655446  0.09083903 -0.68979922 -0.39122257 -0.36203702 -1.1463457\n",
            "  -1.37732987  2.16151323 -1.18771859  0.85182676 -1.01546239 -1.49990297\n",
            "  -0.18384759]]\n",
            "Test data after standardization: [[ 0.89443737 -0.38811788  1.10073064 -0.81201711  1.13201117  1.09807851\n",
            "   0.71204102  0.18101342  0.06628046  0.51285923  0.79629785  0.44829502\n",
            "   1.90593792]\n",
            " [-1.04879931 -0.77299397  0.54119006 -0.24093881  0.3494145  -0.70721922\n",
            "  -0.30812129  0.67613838 -1.03520519 -0.90656727  2.24570604 -0.56188171\n",
            "  -1.22874035]\n",
            " [ 1.64744158 -0.41377628  0.24276841 -1.56343594 -0.21974672  0.28488133\n",
            "   0.44719119 -0.561674    0.57465846  0.06796436  0.29806378  1.38631627\n",
            "   1.64471473]\n",
            " [ 0.2021593  -0.4907515  -0.91361545 -2.58536553  0.06483389  0.52884049\n",
            "   0.68261326 -0.89175731 -0.61155686 -0.30066282  0.4339458   1.12655654\n",
            "   0.90714337]\n",
            " [-0.80589473 -1.09800044 -1.06282627 -0.39122257 -0.78890794  1.94380357\n",
            "   1.6537293  -1.05679896  0.52382066 -0.2498177   0.38865179  0.21739748\n",
            "  -0.29141008]]\n"
          ]
        }
      ]
    },
    {
      "cell_type": "code",
      "source": [
        "#LDA 평균 벡터 계산하기- 3개의 label에 대해 각각 하나의 평균 벡터 계산\n",
        "np.set_printoptions(precision=4)\n",
        "mean_vecs = []\n",
        "for label in range(1, 4):\n",
        "    mean_vecs.append(np.mean(X_train_std[y_train==label], axis=0))\n",
        "    print('MV %s: %s\\n' % (label, mean_vecs[label-1]))\n"
      ],
      "metadata": {
        "colab": {
          "base_uri": "https://localhost:8080/"
        },
        "id": "IxzqIOdkPyGp",
        "outputId": "0c50e0cd-7bb0-41db-c529-7b7f8f63f259"
      },
      "execution_count": 26,
      "outputs": [
        {
          "output_type": "stream",
          "name": "stdout",
          "text": [
            "MV 1: [ 0.9066 -0.3497  0.3201 -0.7189  0.5056  0.8807  0.9589 -0.5516  0.5416\n",
            "  0.2338  0.5897  0.6563  1.2075]\n",
            "\n",
            "MV 2: [-0.8749 -0.2848 -0.3735  0.3157 -0.3848 -0.0433  0.0635 -0.0946  0.0703\n",
            " -0.8286  0.3144  0.3608 -0.7253]\n",
            "\n",
            "MV 3: [ 0.1992  0.866   0.1682  0.4148 -0.0451 -1.0286 -1.2876  0.8287 -0.7795\n",
            "  0.9649 -1.209  -1.3622 -0.4013]\n",
            "\n"
          ]
        }
      ]
    },
    {
      "cell_type": "code",
      "source": [
        "#평균 벡터를 사용해 클래스 내 산포 행렬 Sw 계산하기\n",
        "d = 13 # feature dimension\n",
        "S_W = np.zeros((d, d))\n",
        "for label, mv in zip(range(1, 4), mean_vecs):\n",
        "    class_scatter = np.zeros((d, d))\n",
        "    for row in X_train_std[y_train == label]:\n",
        "        row, mv = row.reshape(d, 1), mv.reshape(d, 1)\n",
        "        class_scatter += (row - mv).dot((row - mv).T)\n",
        "    S_W += class_scatter\n",
        "print('클래스 내의 산포 행렬: ', f'{S_W.shape[0]}x{S_W.shape[1]}')\n",
        "\n"
      ],
      "metadata": {
        "colab": {
          "base_uri": "https://localhost:8080/"
        },
        "id": "RGXOMiNMicxW",
        "outputId": "7057075e-a519-4373-f50e-24dc9136e630"
      },
      "execution_count": 27,
      "outputs": [
        {
          "output_type": "stream",
          "name": "stdout",
          "text": [
            "클래스 내의 산포 행렬:  13x13\n"
          ]
        }
      ]
    },
    {
      "cell_type": "code",
      "source": [
        "print('클래스 레이블 분포: ', np.bincount(y_train)[1:]) #class label이 균등하게 분포되어 있지 않다!"
      ],
      "metadata": {
        "colab": {
          "base_uri": "https://localhost:8080/"
        },
        "id": "kEwECIzbjUzD",
        "outputId": "cd55ef45-85cf-4df0-bb7a-8b7afb047f19"
      },
      "execution_count": 28,
      "outputs": [
        {
          "output_type": "stream",
          "name": "stdout",
          "text": [
            "클래스 레이블 분포:  [41 50 33]\n"
          ]
        }
      ]
    },
    {
      "cell_type": "code",
      "source": [
        "d=13 # feature dimension\n",
        "S_W = np.zeros((d, d))\n",
        "for label, mv in zip(range(1, 4), mean_vecs):\n",
        "    class_scatter = np.cov(X_train_std[y_train == label].T)\n",
        "    S_W += class_scatter\n",
        "print('스케일 조정된 클래스 내의 산포 행렬: ', f'{S_W.shape[0]}x{S_W.shape[1]}')"
      ],
      "metadata": {
        "id": "Zjy9H_FcjlH1",
        "colab": {
          "base_uri": "https://localhost:8080/"
        },
        "outputId": "2ae55015-d487-4d72-fc4a-7746a8b0b4aa"
      },
      "execution_count": 29,
      "outputs": [
        {
          "output_type": "stream",
          "name": "stdout",
          "text": [
            "스케일 조정된 클래스 내의 산포 행렬:  13x13\n"
          ]
        }
      ]
    },
    {
      "cell_type": "code",
      "source": [
        "#클래스 간 산포행렬 계산\n",
        "mean_overall = np.mean(X_train_std, axis=0)\n",
        "S_B = np.zeros((d, d))\n",
        "d=13\n",
        "S_B = np.zeros((d, d))\n",
        "for i, mean_vec in enumerate(mean_vecs):\n",
        "    n = X_train[y_train==i+1, :].shape[0]\n",
        "    mean_vec = mean_vec.reshape(d, 1) # 열 벡터로 만들기\n",
        "    S_B += n * (mean_vec - mean_overall).dot((mean_vec - mean_overall).T)\n",
        "print('클래스 간의 산포 행렬: ', f'{S_B.shape[0]}x{S_B.shape[1]}')\n"
      ],
      "metadata": {
        "colab": {
          "base_uri": "https://localhost:8080/"
        },
        "id": "3qQLtxjdSBNB",
        "outputId": "e832e55b-336d-4954-a404-528139ba0532"
      },
      "execution_count": 30,
      "outputs": [
        {
          "output_type": "stream",
          "name": "stdout",
          "text": [
            "클래스 간의 산포 행렬:  13x13\n"
          ]
        }
      ]
    },
    {
      "cell_type": "code",
      "source": [
        "#고윳값 & 고유벡터 쌍 계산\n",
        "eigen_vals, eigen_vecs = np.linalg.eig(np.linalg.inv(S_W).dot(S_B))"
      ],
      "metadata": {
        "id": "3Art2XpoSTB_"
      },
      "execution_count": 31,
      "outputs": []
    },
    {
      "cell_type": "code",
      "source": [
        "#내림차순 정렬\n",
        "eigen_pairs = [(np.abs(eigen_vals[i]), eigen_vecs[:, i]) for i in range(len(eigen_vals))]\n",
        "eigen_pairs = sorted(eigen_pairs, key=lambda k: k[0], reverse=True)\n",
        "print('내림차순의 고윳값 \\n%s' % eigen_vals)\n",
        "\n",
        "for eigen_val in eigen_pairs:\n",
        "  print(eigen_val[0])"
      ],
      "metadata": {
        "colab": {
          "base_uri": "https://localhost:8080/"
        },
        "id": "ChG5_gyWUpiJ",
        "outputId": "f03d9724-5f98-4147-8f71-ae7a8475b97d"
      },
      "execution_count": 32,
      "outputs": [
        {
          "output_type": "stream",
          "name": "stdout",
          "text": [
            "내림차순의 고윳값 \n",
            "[ 9.0949e-13+0.0000e+00j  2.2459e+03+0.0000e+00j  4.5450e+03+0.0000e+00j\n",
            "  8.4993e-13+0.0000e+00j  3.2847e-13+0.0000e+00j -3.0081e-13+0.0000e+00j\n",
            "  5.3391e-14+1.8933e-13j  5.3391e-14-1.8933e-13j  1.4326e-13+0.0000e+00j\n",
            " -1.7365e-13+0.0000e+00j -1.2383e-13+0.0000e+00j -9.0796e-14+0.0000e+00j\n",
            " -1.6096e-14+0.0000e+00j]\n",
            "4545.031515777924\n",
            "2245.8997884673213\n",
            "9.094947017729282e-13\n",
            "8.499329711812481e-13\n",
            "3.284738783561148e-13\n",
            "3.0081218471568195e-13\n",
            "1.967161819109687e-13\n",
            "1.967161819109687e-13\n",
            "1.7364752277528132e-13\n",
            "1.4325967321318017e-13\n",
            "1.2382652829883322e-13\n",
            "9.07956654015361e-14\n",
            "1.6095552936799132e-14\n"
          ]
        }
      ]
    },
    {
      "cell_type": "code",
      "source": [
        "#선형 판별 벡터 그리기\n",
        "tot=sum(eigen_vals.real)\n",
        "discr = [(i / tot) for i in sorted(eigen_vals.real, reverse=True)]\n",
        "cum_discr = np.cumsum(discr)\n",
        "plt.bar(range(1, 14), discr, alpha=0.5, align='center', label='individual \"discriminability\"')\n",
        "plt.step(range(1, 14), cum_discr, where='mid', label='cumulative \"discriminability\"')\n",
        "plt.ylabel('\"discriminability\" ratio')\n",
        "plt.xlabel('Linear Discriminants')\n",
        "plt.ylim([-0.1, 1.1])\n",
        "plt.legend(loc='best')\n",
        "plt.tight_layout()\n",
        "plt.show()"
      ],
      "metadata": {
        "colab": {
          "base_uri": "https://localhost:8080/",
          "height": 487
        },
        "id": "gTkyKv3VVBob",
        "outputId": "d03d269d-f186-44ca-d304-e4440a36169c"
      },
      "execution_count": 33,
      "outputs": [
        {
          "output_type": "display_data",
          "data": {
            "text/plain": [
              "<Figure size 640x480 with 1 Axes>"
            ],
            "image/png": "[encoded data removed]"
          },
          "metadata": {}
        }
      ]
    },
    {
      "cell_type": "markdown",
      "source": [
        "처음 두 개의 선형 판별 벡터가 Wine dataset의 정보 중 거의 100%를 잡아낸다."
      ],
      "metadata": {
        "id": "LewccLIkV7dI"
      }
    },
    {
      "cell_type": "code",
      "source": [
        "#두 판별 벡터를 열로 쌓아서 변환행렬 W만들기\n",
        "w = np.hstack((eigen_pairs[0][1][:, np.newaxis].real, eigen_pairs[1][1][:, np.newaxis].real))\n",
        "print('Matrix W:\\n', w)"
      ],
      "metadata": {
        "colab": {
          "base_uri": "https://localhost:8080/"
        },
        "id": "EJnpqsNdVwbr",
        "outputId": "ac8ef300-c49d-432b-e098-21fa5423be79"
      },
      "execution_count": 34,
      "outputs": [
        {
          "output_type": "stream",
          "name": "stdout",
          "text": [
            "Matrix W:\n",
            " [[-0.1481 -0.4092]\n",
            " [ 0.0908 -0.1577]\n",
            " [-0.0168 -0.3537]\n",
            " [ 0.1484  0.3223]\n",
            " [-0.0163 -0.0817]\n",
            " [ 0.1913  0.0842]\n",
            " [-0.7338  0.2823]\n",
            " [-0.075  -0.0102]\n",
            " [ 0.0018  0.0907]\n",
            " [ 0.294  -0.2152]\n",
            " [-0.0328  0.2747]\n",
            " [-0.3547 -0.0124]\n",
            " [-0.3915 -0.5958]]\n"
          ]
        }
      ]
    },
    {
      "cell_type": "code",
      "source": [
        "#새로운 특성 공간으로 샘플 투영\n",
        "X_train_lda = X_train_std.dot(w)\n",
        "colors = ['r','b','g']\n",
        "markers = ['o','s','^']\n",
        "for l, c, m in zip(np.unique(y_train), colors, markers):\n",
        "    plt.scatter(X_train_lda[y_train==l, 0], X_train_lda[y_train==l, 1]*(-1), c=c, label=f'Class{l}', marker=m)\n",
        "plt.xlabel('LD 1')\n",
        "plt.ylabel('LD 2')\n",
        "plt.legend(loc='lower left')\n",
        "plt.tight_layout()\n",
        "plt.show()\n",
        "#"
      ],
      "metadata": {
        "colab": {
          "base_uri": "https://localhost:8080/",
          "height": 487
        },
        "id": "i9nVdAkLWKJB",
        "outputId": "e8eeb345-5199-42ca-a5c4-551721f91433"
      },
      "execution_count": 35,
      "outputs": [
        {
          "output_type": "display_data",
          "data": {
            "text/plain": [
              "<Figure size 640x480 with 1 Axes>"
            ],
            "image/png": "[encoded data removed]"
          },
          "metadata": {}
        }
      ]
    },
    {
      "cell_type": "markdown",
      "source": [
        "처음 두 개의 판별 벡터로 투영하여 완벽하게 구분할 수 있는 와인 Class들"
      ],
      "metadata": {
        "id": "Honr-eT1W514"
      }
    },
    {
      "cell_type": "code",
      "source": [
        "#64차원 dataset에 t-SNE 적용해보기\n",
        "##저해상도 손글씨 숫자 (0~9) 데이터 로드\n",
        "from sklearn.datasets import load_digits\n",
        "digits = load_digits()"
      ],
      "metadata": {
        "id": "LGkULAavWv9o"
      },
      "execution_count": 36,
      "outputs": []
    },
    {
      "cell_type": "code",
      "source": [
        "fig, ax = plt.subplots(1,4)\n",
        "for i in range(4):\n",
        "  ax[i].imshow(digits.images[i], cmap='Greys')\n",
        "plt.show"
      ],
      "metadata": {
        "colab": {
          "base_uri": "https://localhost:8080/",
          "height": 338
        },
        "id": "283CQ1T_pLrv",
        "outputId": "684dd400-5d5d-4ab7-9bfa-ca457247ecba"
      },
      "execution_count": 37,
      "outputs": [
        {
          "output_type": "execute_result",
          "data": {
            "text/plain": [
              "<function matplotlib.pyplot.show(close=None, block=None)>"
            ],
            "text/html": [
              "<div style=\"max-width:800px; border: 1px solid var(--colab-border-color);\"><style>\n",
              "      pre.function-repr-contents {\n",
              "        overflow-x: auto;\n",
              "        padding: 8px 12px;\n",
              "        max-height: 500px;\n",
              "      }\n",
              "\n",
              "      pre.function-repr-contents.function-repr-contents-collapsed {\n",
              "        cursor: pointer;\n",
              "        max-height: 100px;\n",
              "      }\n",
              "    </style>\n",
              "    <pre style=\"white-space: initial; background:\n",
              "         var(--colab-secondary-surface-color); padding: 8px 12px;\n",
              "         border-bottom: 1px solid var(--colab-border-color);\"><b>matplotlib.pyplot.show</b><br/>def show(*args, **kwargs)</pre><pre class=\"function-repr-contents function-repr-contents-collapsed\" style=\"\"><a class=\"filepath\" style=\"display:none\" href=\"#\">/usr/local/lib/python3.10/dist-packages/matplotlib/pyplot.py</a>Display all open figures.\n",
              "\n",
              "Parameters\n",
              "----------\n",
              "block : bool, optional\n",
              "    Whether to wait for all figures to be closed before returning.\n",
              "\n",
              "    If `True` block and run the GUI main loop until all figure windows\n",
              "    are closed.\n",
              "\n",
              "    If `False` ensure that all figure windows are displayed and return\n",
              "    immediately.  In this case, you are responsible for ensuring\n",
              "    that the event loop is running to have responsive figures.\n",
              "\n",
              "    Defaults to True in non-interactive mode and to False in interactive\n",
              "    mode (see `.pyplot.isinteractive`).\n",
              "\n",
              "See Also\n",
              "--------\n",
              "ion : Enable interactive mode, which shows / updates the figure after\n",
              "      every plotting command, so that calling ``show()`` is not necessary.\n",
              "ioff : Disable interactive mode.\n",
              "savefig : Save the figure to an image file instead of showing it on screen.\n",
              "\n",
              "Notes\n",
              "-----\n",
              "**Saving figures to file and showing a window at the same time**\n",
              "\n",
              "If you want an image file as well as a user interface window, use\n",
              "`.pyplot.savefig` before `.pyplot.show`. At the end of (a blocking)\n",
              "``show()`` the figure is closed and thus unregistered from pyplot. Calling\n",
              "`.pyplot.savefig` afterwards would save a new and thus empty figure. This\n",
              "limitation of command order does not apply if the show is non-blocking or\n",
              "if you keep a reference to the figure and use `.Figure.savefig`.\n",
              "\n",
              "**Auto-show in jupyter notebooks**\n",
              "\n",
              "The jupyter backends (activated via ``%matplotlib inline``,\n",
              "``%matplotlib notebook``, or ``%matplotlib widget``), call ``show()`` at\n",
              "the end of every cell by default. Thus, you usually don&#x27;t have to call it\n",
              "explicitly there.</pre>\n",
              "      <script>\n",
              "      if (google.colab.kernel.accessAllowed && google.colab.files && google.colab.files.view) {\n",
              "        for (const element of document.querySelectorAll('.filepath')) {\n",
              "          element.style.display = 'block'\n",
              "          element.onclick = (event) => {\n",
              "            event.preventDefault();\n",
              "            event.stopPropagation();\n",
              "            google.colab.files.view(element.textContent, 401);\n",
              "          };\n",
              "        }\n",
              "      }\n",
              "      for (const element of document.querySelectorAll('.function-repr-contents')) {\n",
              "        element.onclick = (event) => {\n",
              "          event.preventDefault();\n",
              "          event.stopPropagation();\n",
              "          element.classList.toggle('function-repr-contents-collapsed');\n",
              "        };\n",
              "      }\n",
              "      </script>\n",
              "      </div>"
            ]
          },
          "metadata": {},
          "execution_count": 37
        },
        {
          "output_type": "display_data",
          "data": {
            "text/plain": [
              "<Figure size 640x480 with 4 Axes>"
            ],
            "image/png": "[encoded data removed]"
          },
          "metadata": {}
        }
      ]
    },
    {
      "cell_type": "code",
      "source": [
        "#sample이 행, pixel(feature)이 열로 표현\n",
        "digits.data.shape"
      ],
      "metadata": {
        "colab": {
          "base_uri": "https://localhost:8080/"
        },
        "id": "Gny_3XUUpX-3",
        "outputId": "c04c081c-31ad-49fd-abd3-84586e637be2"
      },
      "execution_count": 38,
      "outputs": [
        {
          "output_type": "execute_result",
          "data": {
            "text/plain": [
              "(1797, 64)"
            ]
          },
          "metadata": {},
          "execution_count": 38
        }
      ]
    },
    {
      "cell_type": "code",
      "source": [
        "#feature(pixel)를 새 변수 X_digit에 할당, label을 또 다른 변수 y_digits에 할당\n",
        "y_digits = digits.target\n",
        "X_digits = digits.data"
      ],
      "metadata": {
        "id": "qIm1qMuDphmg"
      },
      "execution_count": 39,
      "outputs": []
    },
    {
      "cell_type": "code",
      "source": [
        "#tsne 객체 훈련\n",
        "from sklearn.manifold import TSNE\n",
        "tsne = TSNE(n_components=2, init='pca',random_state=123)\n",
        "X_digits_tsne=tsne.fit_transform(X_digits)"
      ],
      "metadata": {
        "id": "8tGCbYoJpz6N"
      },
      "execution_count": 40,
      "outputs": []
    },
    {
      "cell_type": "markdown",
      "source": [
        "64차원 데이터셋을 2차원 공간에 투영한 것"
      ],
      "metadata": {
        "id": "x04frXDvqHW2"
      }
    },
    {
      "cell_type": "code",
      "source": [
        "#2D t-SNE 임베딩 시각화하기\n",
        "import matplotlib.patheffects as PathEffects\n",
        "def plot_projection(x,colors):\n",
        "  f = plt.figure(figsize=(8,8))\n",
        "  ax = plt.subplot(aspect='equal')\n",
        "  for i in range(10):\n",
        "    plt.scatter(x[colors==i, 0],\n",
        "                x[colors==i, 1])\n",
        "  for i in range(10):\n",
        "    xtext, ytext = np.median(x[colors==i, :], axis=0)\n",
        "    txt = ax.text(xtext, ytext, str(i), fontsize=24)\n",
        "    txt.set_path_effects([PathEffects.Stroke(linewidth=5, foreground='w'), PathEffects.Normal()])\n",
        "\n",
        "plot_projection(X_digits_tsne, y_digits)\n",
        "plt.show()"
      ],
      "metadata": {
        "colab": {
          "base_uri": "https://localhost:8080/",
          "height": 676
        },
        "id": "C7mHYbDYqE-g",
        "outputId": "d19fa545-54e6-4d78-c227-ccef98c8aa2c"
      },
      "execution_count": 41,
      "outputs": [
        {
          "output_type": "display_data",
          "data": {
            "text/plain": [
              "<Figure size 800x800 with 1 Axes>"
            ],
            "image/png": "[encoded data removed]"
          },
          "metadata": {}
        }
      ]
    },
    {
      "cell_type": "markdown",
      "source": [
        "t-SNE는 비지도 방법. 손글씨 숫자를 2d 특성 공간으로 축소한 t-SNE의 임베딩 시각화"
      ],
      "metadata": {
        "id": "7sHgNb7Bq-qg"
      }
    }
  ]
}